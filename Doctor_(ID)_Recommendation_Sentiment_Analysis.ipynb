{
  "nbformat": 4,
  "nbformat_minor": 0,
  "metadata": {
    "colab": {
      "provenance": [],
      "authorship_tag": "ABX9TyOrdGn22E3KKrw4AySlikGj",
      "include_colab_link": true
    },
    "kernelspec": {
      "name": "python3",
      "display_name": "Python 3"
    },
    "language_info": {
      "name": "python"
    }
  },
  "cells": [
    {
      "cell_type": "markdown",
      "metadata": {
        "id": "view-in-github",
        "colab_type": "text"
      },
      "source": [
        "<a href=\"https://colab.research.google.com/github/ArmandFS/doctor-review-nlp/blob/main/Doctor_(ID)_Recommendation_Sentiment_Analysis.ipynb\" target=\"_parent\"><img src=\"https://colab.research.google.com/assets/colab-badge.svg\" alt=\"Open In Colab\"/></a>"
      ]
    },
    {
      "cell_type": "markdown",
      "source": [
        "### Indonesian Doctor Review Sentiment Analysis\n",
        "#### This notebook is a sentiment analysis on various doctor reviews (In Indonesian) that mostly revolve around after appointing with the doctor, and also some about HIV consultations. The reviews only range from either a positive (1) review, or a negative (0) review.\n",
        "\n",
        "#### We prepare the relevant libraries first. Tensorflow will be our focus point. The Tokenizer extension from TensorFlow will be the main driving force of the Sentiment Analysis"
      ],
      "metadata": {
        "id": "rLUfoDW29kpE"
      }
    },
    {
      "cell_type": "code",
      "source": [
        "import pandas as pd\n",
        "import numpy as np\n",
        "import tensorflow as tf\n",
        "import matplotlib.pyplot as plt\n",
        "from tensorflow.keras.utils import to_categorical \n",
        "from tensorflow.keras.preprocessing.text import Tokenizer\n",
        "from tensorflow.keras.preprocessing.sequence import pad_sequences\n",
        "from tensorflow.keras.layers import Embedding, LSTM, Dense, Bidirectional"
      ],
      "metadata": {
        "id": "H2kpQY8O9qo9"
      },
      "execution_count": 30,
      "outputs": []
    },
    {
      "cell_type": "markdown",
      "source": [
        "### Read the data\n",
        "##### Read the data using pandas, encode in latin1. We can use the df.head() function to get some info of the top dataset."
      ],
      "metadata": {
        "id": "RjbFy-cX_bHa"
      }
    },
    {
      "cell_type": "code",
      "source": [
        "#read and load the dataset\n",
        "df = pd.read_csv('doctorReviewsIndo.csv', encoding='latin1', delimiter=';')\n",
        "df.head()"
      ],
      "metadata": {
        "colab": {
          "base_uri": "https://localhost:8080/",
          "height": 206
        },
        "id": "bytDkDZSmz6D",
        "outputId": "fba134e6-34d0-4903-f9a3-5be530073def"
      },
      "execution_count": 31,
      "outputs": [
        {
          "output_type": "execute_result",
          "data": {
            "text/plain": [
              "                                             reviews  labels       tag\n",
              "0  Dia menjelaskan bahwa dibutuhkan 4-5 kali pera...       0  negative\n",
              "1  dr yang hebat, dia merekomendasikan lebih sedi...       1  positive\n",
              "2  Dokter datang dan menghabiskan 9 detik dan mer...       0  negative\n",
              "3  Saya benar-benar puas dengan konsultasi yang s...       1  positive\n",
              "4  pengalaman saya menyenangkan. dokternya  tenan...       1  positive"
            ],
            "text/html": [
              "\n",
              "  <div id=\"df-570c1dc0-e1fd-4933-b1ed-ebfdcdba2ae6\">\n",
              "    <div class=\"colab-df-container\">\n",
              "      <div>\n",
              "<style scoped>\n",
              "    .dataframe tbody tr th:only-of-type {\n",
              "        vertical-align: middle;\n",
              "    }\n",
              "\n",
              "    .dataframe tbody tr th {\n",
              "        vertical-align: top;\n",
              "    }\n",
              "\n",
              "    .dataframe thead th {\n",
              "        text-align: right;\n",
              "    }\n",
              "</style>\n",
              "<table border=\"1\" class=\"dataframe\">\n",
              "  <thead>\n",
              "    <tr style=\"text-align: right;\">\n",
              "      <th></th>\n",
              "      <th>reviews</th>\n",
              "      <th>labels</th>\n",
              "      <th>tag</th>\n",
              "    </tr>\n",
              "  </thead>\n",
              "  <tbody>\n",
              "    <tr>\n",
              "      <th>0</th>\n",
              "      <td>Dia menjelaskan bahwa dibutuhkan 4-5 kali pera...</td>\n",
              "      <td>0</td>\n",
              "      <td>negative</td>\n",
              "    </tr>\n",
              "    <tr>\n",
              "      <th>1</th>\n",
              "      <td>dr yang hebat, dia merekomendasikan lebih sedi...</td>\n",
              "      <td>1</td>\n",
              "      <td>positive</td>\n",
              "    </tr>\n",
              "    <tr>\n",
              "      <th>2</th>\n",
              "      <td>Dokter datang dan menghabiskan 9 detik dan mer...</td>\n",
              "      <td>0</td>\n",
              "      <td>negative</td>\n",
              "    </tr>\n",
              "    <tr>\n",
              "      <th>3</th>\n",
              "      <td>Saya benar-benar puas dengan konsultasi yang s...</td>\n",
              "      <td>1</td>\n",
              "      <td>positive</td>\n",
              "    </tr>\n",
              "    <tr>\n",
              "      <th>4</th>\n",
              "      <td>pengalaman saya menyenangkan. dokternya  tenan...</td>\n",
              "      <td>1</td>\n",
              "      <td>positive</td>\n",
              "    </tr>\n",
              "  </tbody>\n",
              "</table>\n",
              "</div>\n",
              "      <button class=\"colab-df-convert\" onclick=\"convertToInteractive('df-570c1dc0-e1fd-4933-b1ed-ebfdcdba2ae6')\"\n",
              "              title=\"Convert this dataframe to an interactive table.\"\n",
              "              style=\"display:none;\">\n",
              "        \n",
              "  <svg xmlns=\"http://www.w3.org/2000/svg\" height=\"24px\"viewBox=\"0 0 24 24\"\n",
              "       width=\"24px\">\n",
              "    <path d=\"M0 0h24v24H0V0z\" fill=\"none\"/>\n",
              "    <path d=\"M18.56 5.44l.94 2.06.94-2.06 2.06-.94-2.06-.94-.94-2.06-.94 2.06-2.06.94zm-11 1L8.5 8.5l.94-2.06 2.06-.94-2.06-.94L8.5 2.5l-.94 2.06-2.06.94zm10 10l.94 2.06.94-2.06 2.06-.94-2.06-.94-.94-2.06-.94 2.06-2.06.94z\"/><path d=\"M17.41 7.96l-1.37-1.37c-.4-.4-.92-.59-1.43-.59-.52 0-1.04.2-1.43.59L10.3 9.45l-7.72 7.72c-.78.78-.78 2.05 0 2.83L4 21.41c.39.39.9.59 1.41.59.51 0 1.02-.2 1.41-.59l7.78-7.78 2.81-2.81c.8-.78.8-2.07 0-2.86zM5.41 20L4 18.59l7.72-7.72 1.47 1.35L5.41 20z\"/>\n",
              "  </svg>\n",
              "      </button>\n",
              "      \n",
              "  <style>\n",
              "    .colab-df-container {\n",
              "      display:flex;\n",
              "      flex-wrap:wrap;\n",
              "      gap: 12px;\n",
              "    }\n",
              "\n",
              "    .colab-df-convert {\n",
              "      background-color: #E8F0FE;\n",
              "      border: none;\n",
              "      border-radius: 50%;\n",
              "      cursor: pointer;\n",
              "      display: none;\n",
              "      fill: #1967D2;\n",
              "      height: 32px;\n",
              "      padding: 0 0 0 0;\n",
              "      width: 32px;\n",
              "    }\n",
              "\n",
              "    .colab-df-convert:hover {\n",
              "      background-color: #E2EBFA;\n",
              "      box-shadow: 0px 1px 2px rgba(60, 64, 67, 0.3), 0px 1px 3px 1px rgba(60, 64, 67, 0.15);\n",
              "      fill: #174EA6;\n",
              "    }\n",
              "\n",
              "    [theme=dark] .colab-df-convert {\n",
              "      background-color: #3B4455;\n",
              "      fill: #D2E3FC;\n",
              "    }\n",
              "\n",
              "    [theme=dark] .colab-df-convert:hover {\n",
              "      background-color: #434B5C;\n",
              "      box-shadow: 0px 1px 3px 1px rgba(0, 0, 0, 0.15);\n",
              "      filter: drop-shadow(0px 1px 2px rgba(0, 0, 0, 0.3));\n",
              "      fill: #FFFFFF;\n",
              "    }\n",
              "  </style>\n",
              "\n",
              "      <script>\n",
              "        const buttonEl =\n",
              "          document.querySelector('#df-570c1dc0-e1fd-4933-b1ed-ebfdcdba2ae6 button.colab-df-convert');\n",
              "        buttonEl.style.display =\n",
              "          google.colab.kernel.accessAllowed ? 'block' : 'none';\n",
              "\n",
              "        async function convertToInteractive(key) {\n",
              "          const element = document.querySelector('#df-570c1dc0-e1fd-4933-b1ed-ebfdcdba2ae6');\n",
              "          const dataTable =\n",
              "            await google.colab.kernel.invokeFunction('convertToInteractive',\n",
              "                                                     [key], {});\n",
              "          if (!dataTable) return;\n",
              "\n",
              "          const docLinkHtml = 'Like what you see? Visit the ' +\n",
              "            '<a target=\"_blank\" href=https://colab.research.google.com/notebooks/data_table.ipynb>data table notebook</a>'\n",
              "            + ' to learn more about interactive tables.';\n",
              "          element.innerHTML = '';\n",
              "          dataTable['output_type'] = 'display_data';\n",
              "          await google.colab.output.renderOutput(dataTable, element);\n",
              "          const docLink = document.createElement('div');\n",
              "          docLink.innerHTML = docLinkHtml;\n",
              "          element.appendChild(docLink);\n",
              "        }\n",
              "      </script>\n",
              "    </div>\n",
              "  </div>\n",
              "  "
            ]
          },
          "metadata": {},
          "execution_count": 31
        }
      ]
    },
    {
      "cell_type": "markdown",
      "source": [
        "##### df.info() to get some info and the data type of our dataset."
      ],
      "metadata": {
        "id": "lKogCtBQ_8vM"
      }
    },
    {
      "cell_type": "code",
      "source": [
        "df.info()"
      ],
      "metadata": {
        "colab": {
          "base_uri": "https://localhost:8080/"
        },
        "id": "qMffOMj6zgpS",
        "outputId": "3f4a6b2a-c266-4204-e077-b6907e414933"
      },
      "execution_count": 32,
      "outputs": [
        {
          "output_type": "stream",
          "name": "stdout",
          "text": [
            "<class 'pandas.core.frame.DataFrame'>\n",
            "RangeIndex: 156 entries, 0 to 155\n",
            "Data columns (total 3 columns):\n",
            " #   Column   Non-Null Count  Dtype \n",
            "---  ------   --------------  ----- \n",
            " 0   reviews  156 non-null    object\n",
            " 1   labels   156 non-null    int64 \n",
            " 2   tag      156 non-null    object\n",
            "dtypes: int64(1), object(2)\n",
            "memory usage: 3.8+ KB\n"
          ]
        }
      ]
    },
    {
      "cell_type": "code",
      "source": [
        "print(df.labels.value_counts(normalize=True).sort_index())"
      ],
      "metadata": {
        "colab": {
          "base_uri": "https://localhost:8080/"
        },
        "id": "g2c09JA7z3RZ",
        "outputId": "ac6167c7-a812-4b1b-bd89-1dbf6ca94312"
      },
      "execution_count": 33,
      "outputs": [
        {
          "output_type": "stream",
          "name": "stdout",
          "text": [
            "0    0.49359\n",
            "1    0.50641\n",
            "Name: labels, dtype: float64\n"
          ]
        }
      ]
    },
    {
      "cell_type": "markdown",
      "source": [
        "### Plotting the shape\n",
        "##### Here we can plot the shape of the dataset to get a visualization of it."
      ],
      "metadata": {
        "id": "jQVsFAWDDqpc"
      }
    },
    {
      "cell_type": "code",
      "source": [
        "#print the shape of the dataset\n",
        "df.labels.value_counts().sort_index().plot(kind='bar', color='blue',figsize=(7,4))"
      ],
      "metadata": {
        "colab": {
          "base_uri": "https://localhost:8080/",
          "height": 380
        },
        "id": "r6r4Q1BD0KZj",
        "outputId": "fb31aacd-d3f2-4c93-9b55-420a7322efc3"
      },
      "execution_count": 34,
      "outputs": [
        {
          "output_type": "execute_result",
          "data": {
            "text/plain": [
              "<Axes: >"
            ]
          },
          "metadata": {},
          "execution_count": 34
        },
        {
          "output_type": "display_data",
          "data": {
            "text/plain": [
              "<Figure size 700x400 with 1 Axes>"
            ],
            "image/png": "[encoded data removed]"
          },
          "metadata": {}
        }
      ]
    },
    {
      "cell_type": "markdown",
      "source": [
        "### Extracting, Splitting, and Transforming our reviews.\n",
        "##### Here we split our dataset of reviews, labels, tags into strings. We convert the strings in review into lowercase for easier extraction"
      ],
      "metadata": {
        "id": "sFZNfBdzD9Xu"
      }
    },
    {
      "cell_type": "code",
      "source": [
        "# Extract the reviews, labels, and tags\n",
        "reviews = df['reviews'].values\n",
        "labels = df['labels'].values\n",
        "tags = df['tag'].values\n",
        "\n",
        "#Perform text preprocessing, such as converting to lowercase\n",
        "reviews = [str(review).lower() for review in reviews]"
      ],
      "metadata": {
        "id": "quy8KWEan80y"
      },
      "execution_count": 35,
      "outputs": []
    },
    {
      "cell_type": "markdown",
      "source": [
        "### Tokenization\n",
        "##### Here the Tokenizer object is created. Then, the fit_on_texts() method is called to fit the tokenizer on the reviews data. This step is necessary to build the vocabulary and create word indices. After that, the texts_to_sequences() method is used to convert the reviews into sequences of integers based on the learned word indices. Finally, the first sequence is printed to see the result."
      ],
      "metadata": {
        "id": "thPkoLRgFNiZ"
      }
    },
    {
      "cell_type": "code",
      "source": [
        "#Tokenize the reviews\n",
        "tokenizer = Tokenizer()\n",
        "tokenizer.fit_on_texts(reviews)\n",
        "sequences = tokenizer.texts_to_sequences(reviews)\n",
        "#print to check tokenization\n",
        "print(sequences[0])"
      ],
      "metadata": {
        "colab": {
          "base_uri": "https://localhost:8080/"
        },
        "id": "EIz17BtJoB9v",
        "outputId": "0d3a8d54-3a33-468c-dbd6-a772c10040e5"
      },
      "execution_count": 36,
      "outputs": [
        {
          "output_type": "stream",
          "name": "stdout",
          "text": [
            "[7, 23, 37, 463, 317, 191, 81, 29, 2, 239, 102, 91, 192, 130, 464, 193, 41, 239, 29, 3, 465, 466, 467, 193, 468, 13, 82]\n"
          ]
        }
      ]
    },
    {
      "cell_type": "markdown",
      "source": [
        "### Padding the Sequences\n",
        "##### The purpose of padding sequences is to create input sequences of equal length, which is important for efficient computation and consistency in model training. By padding shorter sequences with zeros or any other specified value, you ensure that all sequences have the same length, regardless of their original lengths.\n",
        "##### In the code , the maxlen parameter of the pad_sequences function is set to max_sequence_length to ensure all sequences have the same length. The sequences are padded with zeros at the end to match the maximum sequence length. Finally, the first padded sequence is printed to verify the result."
      ],
      "metadata": {
        "id": "-DToIbntGTek"
      }
    },
    {
      "cell_type": "code",
      "source": [
        "#Pad the sequences to ensure equal length\n",
        "max_sequence_length = max(len(seq) for seq in sequences)\n",
        "padded_sequences = pad_sequences(sequences, maxlen=max_sequence_length)\n",
        "#test the padded sequences\n",
        "padded_sequences[0]"
      ],
      "metadata": {
        "colab": {
          "base_uri": "https://localhost:8080/"
        },
        "id": "Y1oSfXAK8Wxx",
        "outputId": "7b4816d2-3edd-4924-b26e-d5a7593a01a9"
      },
      "execution_count": 37,
      "outputs": [
        {
          "output_type": "execute_result",
          "data": {
            "text/plain": [
              "array([  0,   0,   0,   0,   0,   0,   0,   0,   0,   0,   0,   0,   0,\n",
              "         0,   0,   0,   0,   0,   0,   0,   0,   0,   0,   0,   0,   0,\n",
              "         0,   0,   0,   0,   0,   0,   0,   0,   0,   0,   0,   0,   0,\n",
              "         0,   0,   0,   0,   0,   0,   0,   0,   0,   0,   0,   0,   0,\n",
              "         0,   0,   0,   0,   0,   0,   0,   0,   0,   0,   0,   0,   0,\n",
              "         0,   0,   0,   0,   0,   0,   0,   0,   0,   0,   0,   0,   0,\n",
              "         0,   0,   0,   0,   0,   0,   0,   0,   0,   0,   0,   0,   0,\n",
              "         0,   0,   0,   0,   0,   0,   0,   0,   0,   0,   0,   0,   0,\n",
              "         0,   0,   0,   0,   0,   0,   0,   0,   0,   0,   0,   0,   0,\n",
              "         0,   0,   0,   0,   0,   0,   0,   0,   0,   0,   0,   0,   0,\n",
              "         0,   0,   0,   0,   0,   0,   0,   0,   0,   0,   0,   0,   0,\n",
              "         0,   0,   0,   0,   0,   0,   0,   0,   0,   0,   0,   0,   0,\n",
              "         0,   0,   0,   0,   0,   0,   0,   0,   0,   0,   0,   0,   0,\n",
              "         0,   0,   0,   0,   0,   0,   0,   0,   0,   0,   0,   0,   0,\n",
              "         0,   0,   0,   0,   0,   7,  23,  37, 463, 317, 191,  81,  29,\n",
              "         2, 239, 102,  91, 192, 130, 464, 193,  41, 239,  29,   3, 465,\n",
              "       466, 467, 193, 468,  13,  82], dtype=int32)"
            ]
          },
          "metadata": {},
          "execution_count": 37
        }
      ]
    },
    {
      "cell_type": "markdown",
      "source": [
        "### One Hot Encoding and Splitting\n",
        "##### Here we conver the columns into arrays to compute in our machine learning model"
      ],
      "metadata": {
        "id": "RRGPBSDqGz9C"
      }
    },
    {
      "cell_type": "code",
      "source": [
        "#split and convert the data into tags and labels\n",
        "labels = np.array(labels)\n",
        "tags = np.array(tags)\n",
        "\n",
        "print(\"Label Array\")\n",
        "print(\"------------\")\n",
        "print(labels)\n",
        "\n",
        "print(\"tags Array\")\n",
        "print(\"------------\")\n",
        "print(tags)"
      ],
      "metadata": {
        "colab": {
          "base_uri": "https://localhost:8080/"
        },
        "id": "NeBhCz9koE9B",
        "outputId": "5945d2b0-6d81-4b20-f934-f9765ebba29b"
      },
      "execution_count": 38,
      "outputs": [
        {
          "output_type": "stream",
          "name": "stdout",
          "text": [
            "Label Array\n",
            "------------\n",
            "[0 1 0 1 1 0 1 1 1 0 1 0 1 1 1 0 0 0 0 1 0 0 0 1 0 1 0 0 1 1 0 1 1 0 0 0 1\n",
            " 0 0 1 1 0 1 1 1 0 1 1 0 0 1 1 1 0 1 1 0 0 1 0 0 1 0 0 1 1 1 1 0 0 1 1 0 0\n",
            " 0 1 1 0 1 1 0 0 0 0 1 1 0 1 1 0 0 0 1 1 1 1 0 1 0 1 0 0 0 0 1 1 0 0 1 0 1\n",
            " 0 1 1 1 0 1 1 1 0 1 0 1 0 0 1 0 1 0 1 0 1 1 0 0 1 1 0 0 1 0 0 1 0 0 1 1 0\n",
            " 1 0 0 1 1 0 1 0]\n",
            "tags Array\n",
            "------------\n",
            "['negative' 'positive' 'negative' 'positive' 'positive' 'negative'\n",
            " 'positive' 'positive' 'positive' 'negative' 'positive' 'negative'\n",
            " 'positive' 'positive' 'positive' 'negative' 'negative' 'negative'\n",
            " 'negative' 'positive' 'negative' 'negative' 'negative' 'positive'\n",
            " 'negative' 'positive' 'negative' 'negative' 'positive' 'positive'\n",
            " 'negative' 'positive' 'positive' 'negative' 'negative' 'negative'\n",
            " 'positive' 'negative' 'negative' 'positive' 'positive' 'negative'\n",
            " 'positive' 'positive' 'positive' 'negative' 'positive' 'positive'\n",
            " 'negative' 'negative' 'positive' 'positive' 'positive' 'negative'\n",
            " 'positive' 'positive' 'negative' 'negative' 'positive' 'negative'\n",
            " 'negative' 'positive' 'negative' 'negative' 'positive' 'positive'\n",
            " 'positive' 'positive' 'negative' 'negative' 'positive' 'positive'\n",
            " 'negative' 'negative' 'negative' 'positive' 'positive' 'negative'\n",
            " 'positive' 'positive' 'negative' 'negative' 'negative' 'negative'\n",
            " 'positive' 'positive' 'negative' 'positive' 'positive' 'negative'\n",
            " 'negative' 'negative' 'positive' 'positive' 'positive' 'positive'\n",
            " 'negative' 'positive' 'negative' 'positive' 'negative' 'negative'\n",
            " 'negative' 'negative' 'positive' 'positive' 'negative' 'negative'\n",
            " 'positive' 'negative' 'positive' 'negative' 'positive' 'positive'\n",
            " 'positive' 'negative' 'positive' 'positive' 'positive' 'negative'\n",
            " 'positive' 'negative' 'positive' 'negative' 'negative' 'positive'\n",
            " 'negative' 'positive' 'negative' 'positive' 'negative' 'positive'\n",
            " 'positive' 'negative' 'negative' 'positive' 'positive' 'negative'\n",
            " 'negative' 'positive' 'negative' 'negative' 'positive' 'negative'\n",
            " 'negative' 'positive' 'positive' 'negative' 'positive' 'negative'\n",
            " 'negative' 'positive' 'positive' 'negative' 'positive' 'negative']\n"
          ]
        }
      ]
    },
    {
      "cell_type": "markdown",
      "source": [
        "### One Hot Encoding the tag column from strings to binary"
      ],
      "metadata": {
        "id": "kAK0xiNDG_PF"
      }
    },
    {
      "cell_type": "code",
      "source": [
        "#converting the tags column to one hot encoding to avoid nan values\n",
        "df['tag'] = df['tag'].apply(lambda x: 1 if x == 'positive' else 0)\n",
        "#print tag column for testing\n",
        "df['tag']"
      ],
      "metadata": {
        "colab": {
          "base_uri": "https://localhost:8080/"
        },
        "id": "Eukw7FQO_q0O",
        "outputId": "ba68e62b-da42-4e8a-8fae-410f2d70e9f2"
      },
      "execution_count": 39,
      "outputs": [
        {
          "output_type": "execute_result",
          "data": {
            "text/plain": [
              "0      0\n",
              "1      1\n",
              "2      0\n",
              "3      1\n",
              "4      1\n",
              "      ..\n",
              "151    1\n",
              "152    1\n",
              "153    0\n",
              "154    1\n",
              "155    0\n",
              "Name: tag, Length: 156, dtype: int64"
            ]
          },
          "metadata": {},
          "execution_count": 39
        }
      ]
    },
    {
      "cell_type": "markdown",
      "source": [
        "### Splitting the Dataset\n",
        "##### Here we split our dataset with a ratio of 0.7 (e.g., 70% for training, 30% for testing)"
      ],
      "metadata": {
        "id": "kqGpReWMHGR_"
      }
    },
    {
      "cell_type": "code",
      "source": [
        "#Set the ratio for splitting the dataset (e.g., 80% for training, 20% for testing)\n",
        "split_ratio = 0.7\n",
        "split_index = int(len(padded_sequences) * split_ratio)\n",
        "\n",
        "train_data = padded_sequences[:split_index]\n",
        "train_labels = labels[:split_index]\n",
        "train_tags = tags[:split_index]\n",
        "\n",
        "test_data = padded_sequences[split_index:]\n",
        "test_labels = labels[split_index:]\n",
        "test_tags = tags[split_index:]"
      ],
      "metadata": {
        "id": "f96bvcnGoHFd"
      },
      "execution_count": 49,
      "outputs": []
    },
    {
      "cell_type": "code",
      "source": [
        "train_data"
      ],
      "metadata": {
        "colab": {
          "base_uri": "https://localhost:8080/"
        },
        "id": "osG7WWONwMoY",
        "outputId": "f5e80bec-4846-4792-f89a-7904846a9c29"
      },
      "execution_count": 50,
      "outputs": [
        {
          "output_type": "execute_result",
          "data": {
            "text/plain": [
              "array([[  0,   0,   0, ..., 468,  13,  82],\n",
              "       [  0,   0,   0, ...,   2,  39, 469],\n",
              "       [  0,   0,   0, ...,  71, 132,  52],\n",
              "       ...,\n",
              "       [  0,   0,   0, ..., 122,   8, 909],\n",
              "       [  0,   0,   0, ...,  39, 914,  62],\n",
              "       [  0,   0,   0, ..., 102,  13,  82]], dtype=int32)"
            ]
          },
          "metadata": {},
          "execution_count": 50
        }
      ]
    },
    {
      "cell_type": "code",
      "source": [
        "test_data"
      ],
      "metadata": {
        "colab": {
          "base_uri": "https://localhost:8080/"
        },
        "id": "_a4J6JADwQIM",
        "outputId": "f3de1aed-28e1-49be-b51b-dc81588000af"
      },
      "execution_count": 51,
      "outputs": [
        {
          "output_type": "execute_result",
          "data": {
            "text/plain": [
              "array([[   0,    0,    0, ...,  931,    4,   45],\n",
              "       [   0,    0,    0, ...,  934,   71,    5],\n",
              "       [   0,    0,    0, ...,    6,   56,  946],\n",
              "       ...,\n",
              "       [   0,    0,    0, ...,   34,   27,   50],\n",
              "       [   0,    0,    0, ...,    2,   31,   67],\n",
              "       [   0,    0,    0, ...,  123,  116, 1066]], dtype=int32)"
            ]
          },
          "metadata": {},
          "execution_count": 51
        }
      ]
    },
    {
      "cell_type": "markdown",
      "source": [
        "### Constructing the model architecture. \n",
        "##### Embedding Layer: Maps words in the input sequence to dense vectors.\n",
        "Dropout Layer: Randomly drops a fraction of input units to prevent overfitting.\n",
        "Conv1D Layer: Learns patterns or features from the input sequence.\n",
        "GlobalMaxPooling1D Layer: Extracts important features regardless of their position.\n",
        "Dense Layer: Applies a linear transformation with ReLU activation.\n",
        "Dense Output Layer: Produces a probability score for sentiment polarity.\n",
        "The model uses binary cross-entropy loss and the RMSprop optimizer. It combines convolutional and pooling operations to capture local patterns and global information, while dense layers add complexity and dropout prevents overfitting. Overall, the model performs sentiment analysis on text data."
      ],
      "metadata": {
        "id": "XiCXI-iLIBwi"
      }
    },
    {
      "cell_type": "code",
      "source": [
        "model = tf.keras.Sequential([\n",
        "    tf.keras.layers.Embedding(input_dim=len(tokenizer.word_index) + 1, output_dim=16, input_length=max_sequence_length),\n",
        "    tf.keras.layers.Dropout(0.2),\n",
        "    tf.keras.layers.Conv1D(filters=32, kernel_size=3, activation='relu'),\n",
        "    tf.keras.layers.GlobalMaxPooling1D(),\n",
        "    tf.keras.layers.Dense(units=32, activation='relu'),\n",
        "    tf.keras.layers.Dense(units=1, activation='sigmoid')\n",
        "])\n",
        "\n",
        "model.compile(loss='binary_crossentropy',\n",
        "                  optimizer='RMSprop',\n",
        "                  metrics=['accuracy'])\n"
      ],
      "metadata": {
        "id": "0JHtQ-OYoIqS"
      },
      "execution_count": 52,
      "outputs": []
    },
    {
      "cell_type": "markdown",
      "source": [
        "### Shape of the Model"
      ],
      "metadata": {
        "id": "Mhc4oB6MIrYR"
      }
    },
    {
      "cell_type": "code",
      "source": [
        "model.summary()"
      ],
      "metadata": {
        "colab": {
          "base_uri": "https://localhost:8080/"
        },
        "id": "7NCu8CuloLTL",
        "outputId": "b54ebc01-2a21-4b93-8c34-b7b29cfb87e7"
      },
      "execution_count": 53,
      "outputs": [
        {
          "output_type": "stream",
          "name": "stdout",
          "text": [
            "Model: \"sequential_3\"\n",
            "_________________________________________________________________\n",
            " Layer (type)                Output Shape              Param #   \n",
            "=================================================================\n",
            " embedding_3 (Embedding)     (None, 214, 16)           17072     \n",
            "                                                                 \n",
            " dropout_3 (Dropout)         (None, 214, 16)           0         \n",
            "                                                                 \n",
            " conv1d_2 (Conv1D)           (None, 212, 32)           1568      \n",
            "                                                                 \n",
            " global_max_pooling1d_3 (Glo  (None, 32)               0         \n",
            " balMaxPooling1D)                                                \n",
            "                                                                 \n",
            " dense_6 (Dense)             (None, 32)                1056      \n",
            "                                                                 \n",
            " dense_7 (Dense)             (None, 1)                 33        \n",
            "                                                                 \n",
            "=================================================================\n",
            "Total params: 19,729\n",
            "Trainable params: 19,729\n",
            "Non-trainable params: 0\n",
            "_________________________________________________________________\n"
          ]
        }
      ]
    },
    {
      "cell_type": "markdown",
      "source": [
        "### Train the model"
      ],
      "metadata": {
        "id": "4PgmdP2hItlI"
      }
    },
    {
      "cell_type": "code",
      "source": [
        "history = model.fit(train_data, train_labels, epochs=50, batch_size=32, validation_data=(test_data, test_labels))"
      ],
      "metadata": {
        "colab": {
          "base_uri": "https://localhost:8080/"
        },
        "id": "i5vBdCk1oOKG",
        "outputId": "63de99bd-b68c-4a48-e140-423308720d16"
      },
      "execution_count": 54,
      "outputs": [
        {
          "output_type": "stream",
          "name": "stdout",
          "text": [
            "Epoch 1/50\n",
            "4/4 [==============================] - 1s 81ms/step - loss: 0.6946 - accuracy: 0.5046 - val_loss: 0.6918 - val_accuracy: 0.5106\n",
            "Epoch 2/50\n",
            "4/4 [==============================] - 0s 27ms/step - loss: 0.6911 - accuracy: 0.5046 - val_loss: 0.6902 - val_accuracy: 0.5106\n",
            "Epoch 3/50\n",
            "4/4 [==============================] - 0s 24ms/step - loss: 0.6878 - accuracy: 0.5046 - val_loss: 0.6887 - val_accuracy: 0.5106\n",
            "Epoch 4/50\n",
            "4/4 [==============================] - 0s 25ms/step - loss: 0.6835 - accuracy: 0.5046 - val_loss: 0.6873 - val_accuracy: 0.5106\n",
            "Epoch 5/50\n",
            "4/4 [==============================] - 0s 20ms/step - loss: 0.6802 - accuracy: 0.5046 - val_loss: 0.6857 - val_accuracy: 0.5319\n",
            "Epoch 6/50\n",
            "4/4 [==============================] - 0s 26ms/step - loss: 0.6756 - accuracy: 0.5596 - val_loss: 0.6837 - val_accuracy: 0.5106\n",
            "Epoch 7/50\n",
            "4/4 [==============================] - 0s 25ms/step - loss: 0.6725 - accuracy: 0.6147 - val_loss: 0.6814 - val_accuracy: 0.5106\n",
            "Epoch 8/50\n",
            "4/4 [==============================] - 0s 20ms/step - loss: 0.6650 - accuracy: 0.6147 - val_loss: 0.6788 - val_accuracy: 0.5106\n",
            "Epoch 9/50\n",
            "4/4 [==============================] - 0s 25ms/step - loss: 0.6585 - accuracy: 0.6972 - val_loss: 0.6758 - val_accuracy: 0.5106\n",
            "Epoch 10/50\n",
            "4/4 [==============================] - 0s 24ms/step - loss: 0.6507 - accuracy: 0.6606 - val_loss: 0.6717 - val_accuracy: 0.5106\n",
            "Epoch 11/50\n",
            "4/4 [==============================] - 0s 24ms/step - loss: 0.6432 - accuracy: 0.7064 - val_loss: 0.6674 - val_accuracy: 0.5957\n",
            "Epoch 12/50\n",
            "4/4 [==============================] - 0s 21ms/step - loss: 0.6339 - accuracy: 0.8440 - val_loss: 0.6632 - val_accuracy: 0.5957\n",
            "Epoch 13/50\n",
            "4/4 [==============================] - 0s 22ms/step - loss: 0.6253 - accuracy: 0.8716 - val_loss: 0.6589 - val_accuracy: 0.5319\n",
            "Epoch 14/50\n",
            "4/4 [==============================] - 0s 27ms/step - loss: 0.6162 - accuracy: 0.8440 - val_loss: 0.6529 - val_accuracy: 0.6596\n",
            "Epoch 15/50\n",
            "4/4 [==============================] - 0s 27ms/step - loss: 0.6042 - accuracy: 0.9541 - val_loss: 0.6475 - val_accuracy: 0.6596\n",
            "Epoch 16/50\n",
            "4/4 [==============================] - 0s 23ms/step - loss: 0.5884 - accuracy: 0.9083 - val_loss: 0.6403 - val_accuracy: 0.7234\n",
            "Epoch 17/50\n",
            "4/4 [==============================] - 0s 26ms/step - loss: 0.5768 - accuracy: 0.9725 - val_loss: 0.6349 - val_accuracy: 0.6596\n",
            "Epoch 18/50\n",
            "4/4 [==============================] - 0s 21ms/step - loss: 0.5654 - accuracy: 0.9541 - val_loss: 0.6292 - val_accuracy: 0.5957\n",
            "Epoch 19/50\n",
            "4/4 [==============================] - 0s 20ms/step - loss: 0.5458 - accuracy: 0.9817 - val_loss: 0.6221 - val_accuracy: 0.5957\n",
            "Epoch 20/50\n",
            "4/4 [==============================] - 0s 25ms/step - loss: 0.5284 - accuracy: 0.9633 - val_loss: 0.6109 - val_accuracy: 0.7021\n",
            "Epoch 21/50\n",
            "4/4 [==============================] - 0s 25ms/step - loss: 0.5179 - accuracy: 0.9908 - val_loss: 0.6061 - val_accuracy: 0.6383\n",
            "Epoch 22/50\n",
            "4/4 [==============================] - 0s 21ms/step - loss: 0.4971 - accuracy: 0.9908 - val_loss: 0.5978 - val_accuracy: 0.6596\n",
            "Epoch 23/50\n",
            "4/4 [==============================] - 0s 25ms/step - loss: 0.4738 - accuracy: 0.9817 - val_loss: 0.5858 - val_accuracy: 0.7660\n",
            "Epoch 24/50\n",
            "4/4 [==============================] - 0s 20ms/step - loss: 0.4615 - accuracy: 0.9817 - val_loss: 0.5772 - val_accuracy: 0.7660\n",
            "Epoch 25/50\n",
            "4/4 [==============================] - 0s 20ms/step - loss: 0.4408 - accuracy: 0.9725 - val_loss: 0.5672 - val_accuracy: 0.7660\n",
            "Epoch 26/50\n",
            "4/4 [==============================] - 0s 25ms/step - loss: 0.4193 - accuracy: 0.9817 - val_loss: 0.5579 - val_accuracy: 0.7872\n",
            "Epoch 27/50\n",
            "4/4 [==============================] - 0s 27ms/step - loss: 0.3974 - accuracy: 0.9725 - val_loss: 0.5467 - val_accuracy: 0.7872\n",
            "Epoch 28/50\n",
            "4/4 [==============================] - 0s 19ms/step - loss: 0.3730 - accuracy: 0.9908 - val_loss: 0.5411 - val_accuracy: 0.7660\n",
            "Epoch 29/50\n",
            "4/4 [==============================] - 0s 26ms/step - loss: 0.3554 - accuracy: 0.9908 - val_loss: 0.5275 - val_accuracy: 0.8298\n",
            "Epoch 30/50\n",
            "4/4 [==============================] - 0s 25ms/step - loss: 0.3245 - accuracy: 1.0000 - val_loss: 0.5191 - val_accuracy: 0.8298\n",
            "Epoch 31/50\n",
            "4/4 [==============================] - 0s 27ms/step - loss: 0.3115 - accuracy: 0.9817 - val_loss: 0.5114 - val_accuracy: 0.8085\n",
            "Epoch 32/50\n",
            "4/4 [==============================] - 0s 21ms/step - loss: 0.2849 - accuracy: 1.0000 - val_loss: 0.4951 - val_accuracy: 0.8085\n",
            "Epoch 33/50\n",
            "4/4 [==============================] - 0s 26ms/step - loss: 0.2712 - accuracy: 0.9908 - val_loss: 0.4831 - val_accuracy: 0.8298\n",
            "Epoch 34/50\n",
            "4/4 [==============================] - 0s 23ms/step - loss: 0.2490 - accuracy: 1.0000 - val_loss: 0.4740 - val_accuracy: 0.8085\n",
            "Epoch 35/50\n",
            "4/4 [==============================] - 0s 21ms/step - loss: 0.2247 - accuracy: 1.0000 - val_loss: 0.4606 - val_accuracy: 0.8298\n",
            "Epoch 36/50\n",
            "4/4 [==============================] - 0s 25ms/step - loss: 0.2085 - accuracy: 1.0000 - val_loss: 0.4533 - val_accuracy: 0.8085\n",
            "Epoch 37/50\n",
            "4/4 [==============================] - 0s 20ms/step - loss: 0.1885 - accuracy: 1.0000 - val_loss: 0.4478 - val_accuracy: 0.8085\n",
            "Epoch 38/50\n",
            "4/4 [==============================] - 0s 26ms/step - loss: 0.1718 - accuracy: 1.0000 - val_loss: 0.4348 - val_accuracy: 0.8298\n",
            "Epoch 39/50\n",
            "4/4 [==============================] - 0s 25ms/step - loss: 0.1575 - accuracy: 1.0000 - val_loss: 0.4337 - val_accuracy: 0.8085\n",
            "Epoch 40/50\n",
            "4/4 [==============================] - 0s 20ms/step - loss: 0.1450 - accuracy: 1.0000 - val_loss: 0.4210 - val_accuracy: 0.8298\n",
            "Epoch 41/50\n",
            "4/4 [==============================] - 0s 20ms/step - loss: 0.1285 - accuracy: 1.0000 - val_loss: 0.4129 - val_accuracy: 0.8511\n",
            "Epoch 42/50\n",
            "4/4 [==============================] - 0s 24ms/step - loss: 0.1127 - accuracy: 1.0000 - val_loss: 0.4130 - val_accuracy: 0.8085\n",
            "Epoch 43/50\n",
            "4/4 [==============================] - 0s 21ms/step - loss: 0.1038 - accuracy: 0.9908 - val_loss: 0.3979 - val_accuracy: 0.8511\n",
            "Epoch 44/50\n",
            "4/4 [==============================] - 0s 21ms/step - loss: 0.0883 - accuracy: 1.0000 - val_loss: 0.4065 - val_accuracy: 0.8085\n",
            "Epoch 45/50\n",
            "4/4 [==============================] - 0s 27ms/step - loss: 0.0818 - accuracy: 1.0000 - val_loss: 0.4092 - val_accuracy: 0.8085\n",
            "Epoch 46/50\n",
            "4/4 [==============================] - 0s 23ms/step - loss: 0.0679 - accuracy: 1.0000 - val_loss: 0.4083 - val_accuracy: 0.8085\n",
            "Epoch 47/50\n",
            "4/4 [==============================] - 0s 21ms/step - loss: 0.0694 - accuracy: 1.0000 - val_loss: 0.4063 - val_accuracy: 0.8085\n",
            "Epoch 48/50\n",
            "4/4 [==============================] - 0s 20ms/step - loss: 0.0568 - accuracy: 1.0000 - val_loss: 0.4214 - val_accuracy: 0.7660\n",
            "Epoch 49/50\n",
            "4/4 [==============================] - 0s 27ms/step - loss: 0.0471 - accuracy: 1.0000 - val_loss: 0.4011 - val_accuracy: 0.8298\n",
            "Epoch 50/50\n",
            "4/4 [==============================] - 0s 20ms/step - loss: 0.0461 - accuracy: 1.0000 - val_loss: 0.4066 - val_accuracy: 0.8298\n"
          ]
        }
      ]
    },
    {
      "cell_type": "markdown",
      "source": [
        "### Printing the Loss and Accuracy of the Model"
      ],
      "metadata": {
        "id": "kHHMI15YIwkF"
      }
    },
    {
      "cell_type": "code",
      "source": [
        "loss, accuracy = model.evaluate(test_data, test_labels)\n",
        "print(f\"Test Loss: {loss:.4f}\")\n",
        "print(f\"Test Accuracy: {accuracy:.4f}\")\n"
      ],
      "metadata": {
        "colab": {
          "base_uri": "https://localhost:8080/"
        },
        "id": "sQefwpSOopjs",
        "outputId": "2fe9118d-1079-4145-85b6-8c4afd53c904"
      },
      "execution_count": 55,
      "outputs": [
        {
          "output_type": "stream",
          "name": "stdout",
          "text": [
            "2/2 [==============================] - 0s 12ms/step - loss: 0.4066 - accuracy: 0.8298\n",
            "Test Loss: 0.4066\n",
            "Test Accuracy: 0.8298\n"
          ]
        }
      ]
    },
    {
      "cell_type": "markdown",
      "source": [
        "### Plotting our model training and testing history"
      ],
      "metadata": {
        "id": "9EMbYWfeI1KJ"
      }
    },
    {
      "cell_type": "code",
      "source": [
        "#Plot training and validation loss\n",
        "plt.plot(history.history['loss'])\n",
        "plt.plot(history.history['val_loss'])\n",
        "plt.title('Training and Validation Loss')\n",
        "plt.xlabel('Epochs')\n",
        "plt.ylabel('Loss')\n",
        "plt.legend(['Training', 'Validation'])\n",
        "plt.show()\n",
        "\n",
        "#Plot training and validation accuracy\n",
        "plt.plot(history.history['accuracy'])\n",
        "plt.plot(history.history['val_accuracy'])\n",
        "plt.title('Training and Validation Accuracy')\n",
        "plt.xlabel('Epochs')\n",
        "plt.ylabel('Accuracy')\n",
        "plt.legend(['Training', 'Validation'])\n",
        "plt.show()"
      ],
      "metadata": {
        "colab": {
          "base_uri": "https://localhost:8080/",
          "height": 927
        },
        "id": "HtfC5MrXI5AV",
        "outputId": "cac1f076-e681-4878-fa1c-257ffb06bdd5"
      },
      "execution_count": 56,
      "outputs": [
        {
          "output_type": "display_data",
          "data": {
            "text/plain": [
              "<Figure size 640x480 with 1 Axes>"
            ],
            "image/png": "[encoded data removed]"
          },
          "metadata": {}
        },
        {
          "output_type": "display_data",
          "data": {
            "text/plain": [
              "<Figure size 640x480 with 1 Axes>"
            ],
            "image/png": "[encoded data removed]"
          },
          "metadata": {}
        }
      ]
    },
    {
      "cell_type": "markdown",
      "source": [
        "### Predicting and Testing the model."
      ],
      "metadata": {
        "id": "HlTXWlZxJB5w"
      }
    },
    {
      "cell_type": "code",
      "source": [
        "#predicting and testing the model\n",
        "input_text = \"dokter ini sudah bagus dalam menyediakan saran\"\n",
        "\n",
        "input_tokens = tokenizer.texts_to_sequences([input_text])\n",
        "input_sequence = pad_sequences(input_tokens, maxlen=max_sequence_length)\n",
        "predictions = model.predict(input_sequence)\n",
        "predicted_label = \"Positive\" if predictions[0] > 0.5 else \"Negative\"\n",
        "print(\"Predicted Label:\", predicted_label)\n"
      ],
      "metadata": {
        "colab": {
          "base_uri": "https://localhost:8080/"
        },
        "id": "nHBvOey-JD5_",
        "outputId": "4f112ee2-88a1-4b4c-d039-2b82b0ed5fe2"
      },
      "execution_count": 57,
      "outputs": [
        {
          "output_type": "stream",
          "name": "stdout",
          "text": [
            "1/1 [==============================] - 0s 113ms/step\n",
            "Predicted Label: Positive\n"
          ]
        }
      ]
    },
    {
      "cell_type": "markdown",
      "source": [
        "### Saving our Model for Deployment\n",
        "##### This model will be saved and continued for deployment in docker. If I want to deploy your model to Docker, I have to save it in the HDF5 format (.h5) using the save() method.\n",
        "##### The HDF5 format is a commonly used file format for storing deep learning models in TensorFlow."
      ],
      "metadata": {
        "id": "ft8G26ARJ0Al"
      }
    },
    {
      "cell_type": "code",
      "source": [
        "model.save('doctor_review_nlp_model.h5')"
      ],
      "metadata": {
        "id": "QuURv0uZJ01E"
      },
      "execution_count": 65,
      "outputs": []
    },
    {
      "cell_type": "markdown",
      "source": [
        "### Downloading the Model from Google Colab\n"
      ],
      "metadata": {
        "id": "Rcra6D57Khm7"
      }
    },
    {
      "cell_type": "code",
      "source": [
        "from google.colab import files\n",
        "files.download('doctor_review_nlp_model.h5')"
      ],
      "metadata": {
        "colab": {
          "base_uri": "https://localhost:8080/",
          "height": 17
        },
        "id": "2srgK3tHKmLd",
        "outputId": "36dde2cb-88e5-4568-9241-a455ac52efba"
      },
      "execution_count": 66,
      "outputs": [
        {
          "output_type": "display_data",
          "data": {
            "text/plain": [
              "<IPython.core.display.Javascript object>"
            ],
            "application/javascript": [
              "\n",
              "    async function download(id, filename, size) {\n",
              "      if (!google.colab.kernel.accessAllowed) {\n",
              "        return;\n",
              "      }\n",
              "      const div = document.createElement('div');\n",
              "      const label = document.createElement('label');\n",
              "      label.textContent = `Downloading \"${filename}\": `;\n",
              "      div.appendChild(label);\n",
              "      const progress = document.createElement('progress');\n",
              "      progress.max = size;\n",
              "      div.appendChild(progress);\n",
              "      document.body.appendChild(div);\n",
              "\n",
              "      const buffers = [];\n",
              "      let downloaded = 0;\n",
              "\n",
              "      const channel = await google.colab.kernel.comms.open(id);\n",
              "      // Send a message to notify the kernel that we're ready.\n",
              "      channel.send({})\n",
              "\n",
              "      for await (const message of channel.messages) {\n",
              "        // Send a message to notify the kernel that we're ready.\n",
              "        channel.send({})\n",
              "        if (message.buffers) {\n",
              "          for (const buffer of message.buffers) {\n",
              "            buffers.push(buffer);\n",
              "            downloaded += buffer.byteLength;\n",
              "            progress.value = downloaded;\n",
              "          }\n",
              "        }\n",
              "      }\n",
              "      const blob = new Blob(buffers, {type: 'application/binary'});\n",
              "      const a = document.createElement('a');\n",
              "      a.href = window.URL.createObjectURL(blob);\n",
              "      a.download = filename;\n",
              "      div.appendChild(a);\n",
              "      a.click();\n",
              "      div.remove();\n",
              "    }\n",
              "  "
            ]
          },
          "metadata": {}
        },
        {
          "output_type": "display_data",
          "data": {
            "text/plain": [
              "<IPython.core.display.Javascript object>"
            ],
            "application/javascript": [
              "download(\"download_6cf8bd13-6db0-4d42-b982-3f58f7448950\", \"doctor_review_nlp_model.h5\", 189200)"
            ]
          },
          "metadata": {}
        }
      ]
    }
  ]
}